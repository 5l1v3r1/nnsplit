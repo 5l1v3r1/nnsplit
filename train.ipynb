{
 "cells": [
  {
   "cell_type": "code",
   "execution_count": 1,
   "metadata": {},
   "outputs": [],
   "source": [
    "%load_ext autoreload\n",
    "%autoreload 2"
   ]
  },
  {
   "cell_type": "code",
   "execution_count": 2,
   "metadata": {},
   "outputs": [],
   "source": [
    "import sys\n",
    "from pathlib import Path\n",
    "sys.path.append(\"python_lib\")"
   ]
  },
  {
   "cell_type": "code",
   "execution_count": 3,
   "metadata": {},
   "outputs": [],
   "source": [
    "from tqdm.notebook import tqdm_notebook as tqdm\n",
    "import nnsplit\n",
    "from nnsplit import train, utils\n",
    "train.tqdm = tqdm"
   ]
  },
  {
   "cell_type": "code",
   "execution_count": 4,
   "metadata": {},
   "outputs": [],
   "source": [
    "cache_dir = Path(\"cache\")\n",
    "cache_dir.mkdir(exist_ok=True)"
   ]
  },
  {
   "cell_type": "markdown",
   "metadata": {},
   "source": [
    "# Prepare data"
   ]
  },
  {
   "cell_type": "code",
   "execution_count": 7,
   "metadata": {},
   "outputs": [
    {
     "data": {
      "application/vnd.jupyter.widget-view+json": {
       "model_id": "e6db12ed2957455796243acc62cff908",
       "version_major": 2,
       "version_minor": 0
      },
      "text/plain": [
       "HBox(children=(FloatProgress(value=0.0, max=1000000.0), HTML(value='')))"
      ]
     },
     "metadata": {},
     "output_type": "display_data"
    },
    {
     "data": {
      "text/plain": [
       "(tensor([[107, 106, 111,  ...,  86,  99, 105],\n",
       "         [117,  34,  82,  ..., 102, 119, 116],\n",
       "         [103, 112,  34,  ...,  71, 107, 112],\n",
       "         ...,\n",
       "         [ 99, 118, 107,  ..., 116, 111,  99],\n",
       "         [106, 112, 107,  ..., 112, 113, 110],\n",
       "         [105, 103, 117,  ..., 114, 106, 103]], dtype=torch.uint8),\n",
       " tensor([[[False, False],\n",
       "          [False, False],\n",
       "          [False, False],\n",
       "          ...,\n",
       "          [False, False],\n",
       "          [False, False],\n",
       "          [False, False]],\n",
       " \n",
       "         [[False, False],\n",
       "          [ True, False],\n",
       "          [False, False],\n",
       "          ...,\n",
       "          [False, False],\n",
       "          [False, False],\n",
       "          [False, False]],\n",
       " \n",
       "         [[False, False],\n",
       "          [False, False],\n",
       "          [ True, False],\n",
       "          ...,\n",
       "          [False, False],\n",
       "          [False, False],\n",
       "          [False, False]],\n",
       " \n",
       "         ...,\n",
       " \n",
       "         [[False, False],\n",
       "          [False, False],\n",
       "          [False, False],\n",
       "          ...,\n",
       "          [False, False],\n",
       "          [False, False],\n",
       "          [False, False]],\n",
       " \n",
       "         [[False, False],\n",
       "          [False, False],\n",
       "          [False, False],\n",
       "          ...,\n",
       "          [False, False],\n",
       "          [False, False],\n",
       "          [False, False]],\n",
       " \n",
       "         [[False, False],\n",
       "          [False, False],\n",
       "          [False, False],\n",
       "          ...,\n",
       "          [False, False],\n",
       "          [False, False],\n",
       "          [False, False]]]))"
      ]
     },
     "execution_count": 7,
     "metadata": {},
     "output_type": "execute_result"
    }
   ],
   "source": [
    "train.prepare_data(\"train_data/dewiki-20180920-corpus.xml\", \"de\", max_n_sentences=1_000_000, \n",
    "                   data_directory=cache / \"de_data\")"
   ]
  },
  {
   "cell_type": "markdown",
   "metadata": {},
   "source": [
    "# Train model"
   ]
  },
  {
   "cell_type": "code",
   "execution_count": 10,
   "metadata": {},
   "outputs": [
    {
     "data": {
      "text/html": [
       "<table border=\"1\" class=\"dataframe\">\n",
       "  <thead>\n",
       "    <tr style=\"text-align: left;\">\n",
       "      <th>epoch</th>\n",
       "      <th>train_loss</th>\n",
       "      <th>valid_loss</th>\n",
       "      <th>time</th>\n",
       "    </tr>\n",
       "  </thead>\n",
       "  <tbody>\n",
       "    <tr>\n",
       "      <td>0</td>\n",
       "      <td>0.003551</td>\n",
       "      <td>0.003577</td>\n",
       "      <td>01:30</td>\n",
       "    </tr>\n",
       "    <tr>\n",
       "      <td>1</td>\n",
       "      <td>0.002744</td>\n",
       "      <td>0.002848</td>\n",
       "      <td>01:28</td>\n",
       "    </tr>\n",
       "  </tbody>\n",
       "</table>"
      ],
      "text/plain": [
       "<IPython.core.display.HTML object>"
      ]
     },
     "metadata": {},
     "output_type": "display_data"
    },
    {
     "data": {
      "text/plain": [
       "Learner(data=DataBunch;\n",
       "\n",
       "Train: <torch.utils.data.dataset.TensorDataset object at 0x7f0465feb450>;\n",
       "\n",
       "Valid: <torch.utils.data.dataset.TensorDataset object at 0x7f0465fd03d0>;\n",
       "\n",
       "Test: None, model=Network(\n",
       "  (embedding): Embedding(129, 25)\n",
       "  (lstm1): LSTM(25, 50, bias=False, batch_first=True, bidirectional=True)\n",
       "  (lstm2): LSTM(100, 50, bias=False, batch_first=True, bidirectional=True)\n",
       "  (out): Linear(in_features=100, out_features=2, bias=True)\n",
       "), opt_func=functools.partial(<class 'torch.optim.adam.Adam'>, betas=(0.9, 0.99)), loss_func=<function loss at 0x7f0465fce560>, metrics=[], true_wd=True, bn_wd=True, wd=0.01, train_bn=True, path=PosixPath('.'), model_dir='models', callback_fns=[functools.partial(<class 'fastai.basic_train.Recorder'>, add_time=True, silent=False)], callbacks=[], layer_groups=[Sequential(\n",
       "  (0): Embedding(129, 25)\n",
       "  (1): LSTM(25, 50, bias=False, batch_first=True, bidirectional=True)\n",
       "  (2): LSTM(100, 50, bias=False, batch_first=True, bidirectional=True)\n",
       "  (3): Linear(in_features=100, out_features=2, bias=True)\n",
       ")], add_time=True, silent=False)"
      ]
     },
     "execution_count": 10,
     "metadata": {},
     "output_type": "execute_result"
    }
   ],
   "source": [
    "learner = train.train_from_directory(\"cache/de_data\", n_epochs=2)\n",
    "learner"
   ]
  },
  {
   "cell_type": "code",
   "execution_count": 11,
   "metadata": {},
   "outputs": [],
   "source": [
    "utils.store_model(learner, \"data/de\")"
   ]
  },
  {
   "cell_type": "markdown",
   "metadata": {},
   "source": [
    "# Test"
   ]
  },
  {
   "cell_type": "code",
   "execution_count": 5,
   "metadata": {},
   "outputs": [],
   "source": [
    "from nnsplit import NNSplit"
   ]
  },
  {
   "cell_type": "code",
   "execution_count": 6,
   "metadata": {},
   "outputs": [],
   "source": [
    "splitter = NNSplit(utils.load_model(\"cache/de_data\"))"
   ]
  },
  {
   "cell_type": "code",
   "execution_count": 9,
   "metadata": {},
   "outputs": [
    {
     "data": {
      "text/plain": [
       "[[[Token(text='Das', whitespace=' '),\n",
       "   Token(text='ist', whitespace=' '),\n",
       "   Token(text='ein', whitespace=' '),\n",
       "   Token(text='Test', whitespace=' ')],\n",
       "  [Token(text='Das', whitespace=' '),\n",
       "   Token(text='ist', whitespace=' '),\n",
       "   Token(text='noch', whitespace=' '),\n",
       "   Token(text='ein', whitespace=' '),\n",
       "   Token(text='Test', whitespace='')],\n",
       "  [Token(text='.', whitespace='')]]]"
      ]
     },
     "execution_count": 9,
     "metadata": {},
     "output_type": "execute_result"
    }
   ],
   "source": [
    "splitter.split([\"Das ist ein Test Das ist noch ein Test.\"])"
   ]
  }
 ],
 "metadata": {
  "kernelspec": {
   "display_name": "Python 3",
   "language": "python",
   "name": "python3"
  },
  "language_info": {
   "codemirror_mode": {
    "name": "ipython",
    "version": 3
   },
   "file_extension": ".py",
   "mimetype": "text/x-python",
   "name": "python",
   "nbconvert_exporter": "python",
   "pygments_lexer": "ipython3",
   "version": "3.7.4"
  }
 },
 "nbformat": 4,
 "nbformat_minor": 4
}
