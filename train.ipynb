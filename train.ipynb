{
 "cells": [
  {
   "cell_type": "code",
   "execution_count": 1,
   "metadata": {},
   "outputs": [],
   "source": [
    "%load_ext autoreload\n",
    "%autoreload 2"
   ]
  },
  {
   "cell_type": "code",
   "execution_count": 2,
   "metadata": {},
   "outputs": [],
   "source": [
    "import sys\n",
    "from pathlib import Path\n",
    "sys.path.append(\"python_lib\")"
   ]
  },
  {
   "cell_type": "code",
   "execution_count": 3,
   "metadata": {},
   "outputs": [],
   "source": [
    "from tqdm.notebook import tqdm_notebook as tqdm\n",
    "import nnsplit\n",
    "from nnsplit import train, utils\n",
    "train.tqdm = tqdm"
   ]
  },
  {
   "cell_type": "code",
   "execution_count": 4,
   "metadata": {},
   "outputs": [],
   "source": [
    "cache_dir = Path(\"cache\")\n",
    "cache_dir.mkdir(exist_ok=True)"
   ]
  },
  {
   "cell_type": "markdown",
   "metadata": {},
   "source": [
    "# Prepare data"
   ]
  },
  {
   "cell_type": "code",
   "execution_count": 7,
   "metadata": {},
   "outputs": [
    {
     "data": {
      "application/vnd.jupyter.widget-view+json": {
       "model_id": "e6db12ed2957455796243acc62cff908",
       "version_major": 2,
       "version_minor": 0
      },
      "text/plain": [
       "HBox(children=(FloatProgress(value=0.0, max=1000000.0), HTML(value='')))"
      ]
     },
     "metadata": {},
     "output_type": "display_data"
    },
    {
     "data": {
      "text/plain": [
       "(tensor([[107, 106, 111,  ...,  86,  99, 105],\n",
       "         [117,  34,  82,  ..., 102, 119, 116],\n",
       "         [103, 112,  34,  ...,  71, 107, 112],\n",
       "         ...,\n",
       "         [ 99, 118, 107,  ..., 116, 111,  99],\n",
       "         [106, 112, 107,  ..., 112, 113, 110],\n",
       "         [105, 103, 117,  ..., 114, 106, 103]], dtype=torch.uint8),\n",
       " tensor([[[False, False],\n",
       "          [False, False],\n",
       "          [False, False],\n",
       "          ...,\n",
       "          [False, False],\n",
       "          [False, False],\n",
       "          [False, False]],\n",
       " \n",
       "         [[False, False],\n",
       "          [ True, False],\n",
       "          [False, False],\n",
       "          ...,\n",
       "          [False, False],\n",
       "          [False, False],\n",
       "          [False, False]],\n",
       " \n",
       "         [[False, False],\n",
       "          [False, False],\n",
       "          [ True, False],\n",
       "          ...,\n",
       "          [False, False],\n",
       "          [False, False],\n",
       "          [False, False]],\n",
       " \n",
       "         ...,\n",
       " \n",
       "         [[False, False],\n",
       "          [False, False],\n",
       "          [False, False],\n",
       "          ...,\n",
       "          [False, False],\n",
       "          [False, False],\n",
       "          [False, False]],\n",
       " \n",
       "         [[False, False],\n",
       "          [False, False],\n",
       "          [False, False],\n",
       "          ...,\n",
       "          [False, False],\n",
       "          [False, False],\n",
       "          [False, False]],\n",
       " \n",
       "         [[False, False],\n",
       "          [False, False],\n",
       "          [False, False],\n",
       "          ...,\n",
       "          [False, False],\n",
       "          [False, False],\n",
       "          [False, False]]]))"
      ]
     },
     "execution_count": 7,
     "metadata": {},
     "output_type": "execute_result"
    }
   ],
   "source": [
    "train.prepare_data(\"train_data/dewiki-20180920-corpus.xml\", \"de\", max_n_sentences=1_000_000, \n",
    "                   data_directory=cache / \"de_data\")"
   ]
  },
  {
   "cell_type": "markdown",
   "metadata": {},
   "source": [
    "# Train model"
   ]
  },
  {
   "cell_type": "code",
   "execution_count": null,
   "metadata": {},
   "outputs": [
    {
     "data": {
      "text/html": [
       "\n",
       "    <div>\n",
       "        <style>\n",
       "            /* Turns off some styling */\n",
       "            progress {\n",
       "                /* gets rid of default border in Firefox and Opera. */\n",
       "                border: none;\n",
       "                /* Needs to be in here for Safari polyfill so background images work as expected. */\n",
       "                background-size: auto;\n",
       "            }\n",
       "            .progress-bar-interrupted, .progress-bar-interrupted::-webkit-progress-bar {\n",
       "                background: #F44336;\n",
       "            }\n",
       "        </style>\n",
       "      <progress value='1' class='' max='2', style='width:300px; height:20px; vertical-align: middle;'></progress>\n",
       "      50.00% [1/2 01:30<01:30]\n",
       "    </div>\n",
       "    \n",
       "<table border=\"1\" class=\"dataframe\">\n",
       "  <thead>\n",
       "    <tr style=\"text-align: left;\">\n",
       "      <th>epoch</th>\n",
       "      <th>train_loss</th>\n",
       "      <th>valid_loss</th>\n",
       "      <th>time</th>\n",
       "    </tr>\n",
       "  </thead>\n",
       "  <tbody>\n",
       "    <tr>\n",
       "      <td>0</td>\n",
       "      <td>0.003551</td>\n",
       "      <td>0.003577</td>\n",
       "      <td>01:30</td>\n",
       "    </tr>\n",
       "  </tbody>\n",
       "</table><p>\n",
       "\n",
       "    <div>\n",
       "        <style>\n",
       "            /* Turns off some styling */\n",
       "            progress {\n",
       "                /* gets rid of default border in Firefox and Opera. */\n",
       "                border: none;\n",
       "                /* Needs to be in here for Safari polyfill so background images work as expected. */\n",
       "                background-size: auto;\n",
       "            }\n",
       "            .progress-bar-interrupted, .progress-bar-interrupted::-webkit-progress-bar {\n",
       "                background: #F44336;\n",
       "            }\n",
       "        </style>\n",
       "      <progress value='736' class='' max='782', style='width:300px; height:20px; vertical-align: middle;'></progress>\n",
       "      94.12% [736/782 00:03<00:00]\n",
       "    </div>\n",
       "    "
      ],
      "text/plain": [
       "<IPython.core.display.HTML object>"
      ]
     },
     "metadata": {},
     "output_type": "display_data"
    }
   ],
   "source": [
    "learner = train.train_from_directory(\"cache/de_data\", n_epochs=2)\n",
    "learner"
   ]
  },
  {
   "cell_type": "code",
   "execution_count": 7,
   "metadata": {},
   "outputs": [],
   "source": [
    "utils.store_model(learner, \"data/de\")"
   ]
  },
  {
   "cell_type": "markdown",
   "metadata": {},
   "source": [
    "# Test"
   ]
  },
  {
   "cell_type": "code",
   "execution_count": 5,
   "metadata": {},
   "outputs": [],
   "source": [
    "from nnsplit import NNSplit"
   ]
  },
  {
   "cell_type": "code",
   "execution_count": 6,
   "metadata": {},
   "outputs": [],
   "source": [
    "splitter = NNSplit(utils.load_model(\"cache/de_data\"))"
   ]
  },
  {
   "cell_type": "code",
   "execution_count": 9,
   "metadata": {},
   "outputs": [
    {
     "data": {
      "text/plain": [
       "[[[Token(text='Das', whitespace=' '),\n",
       "   Token(text='ist', whitespace=' '),\n",
       "   Token(text='ein', whitespace=' '),\n",
       "   Token(text='Test', whitespace=' ')],\n",
       "  [Token(text='Das', whitespace=' '),\n",
       "   Token(text='ist', whitespace=' '),\n",
       "   Token(text='noch', whitespace=' '),\n",
       "   Token(text='ein', whitespace=' '),\n",
       "   Token(text='Test', whitespace='')],\n",
       "  [Token(text='.', whitespace='')]]]"
      ]
     },
     "execution_count": 9,
     "metadata": {},
     "output_type": "execute_result"
    }
   ],
   "source": [
    "splitter.split([\"Das ist ein Test Das ist noch ein Test.\"])"
   ]
  }
 ],
 "metadata": {
  "kernelspec": {
   "display_name": "Python 3",
   "language": "python",
   "name": "python3"
  },
  "language_info": {
   "codemirror_mode": {
    "name": "ipython",
    "version": 3
   },
   "file_extension": ".py",
   "mimetype": "text/x-python",
   "name": "python",
   "nbconvert_exporter": "python",
   "pygments_lexer": "ipython3",
   "version": "3.7.4"
  }
 },
 "nbformat": 4,
 "nbformat_minor": 4
}
